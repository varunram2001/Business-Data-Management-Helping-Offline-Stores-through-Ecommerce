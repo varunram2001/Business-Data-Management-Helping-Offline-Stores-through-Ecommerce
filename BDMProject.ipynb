{
  "cells": [
    {
      "cell_type": "code",
      "execution_count": null,
      "metadata": {
        "id": "kPyLd1Jke4sC"
      },
      "outputs": [],
      "source": [
        "import pandas as pd\n",
        "import numpy as np\n",
        "from sklearn.model_selection import train_test_split\n",
        "from sklearn.preprocessing import LabelEncoder\n",
        "import seaborn as sns"
      ]
    },
    {
      "cell_type": "code",
      "execution_count": null,
      "metadata": {
        "id": "OxoASs7ge4sF",
        "outputId": "369fa960-946f-4268-ff42-bdc462b040dc"
      },
      "outputs": [
        {
          "data": {
            "text/html": [
              "<div>\n",
              "<style scoped>\n",
              "    .dataframe tbody tr th:only-of-type {\n",
              "        vertical-align: middle;\n",
              "    }\n",
              "\n",
              "    .dataframe tbody tr th {\n",
              "        vertical-align: top;\n",
              "    }\n",
              "\n",
              "    .dataframe thead th {\n",
              "        text-align: right;\n",
              "    }\n",
              "</style>\n",
              "<table border=\"1\" class=\"dataframe\">\n",
              "  <thead>\n",
              "    <tr style=\"text-align: right;\">\n",
              "      <th></th>\n",
              "      <th>month</th>\n",
              "      <th>Television-all</th>\n",
              "      <th>Rerigerator</th>\n",
              "    </tr>\n",
              "  </thead>\n",
              "  <tbody>\n",
              "    <tr>\n",
              "      <th>0</th>\n",
              "      <td>January</td>\n",
              "      <td>189</td>\n",
              "      <td>201</td>\n",
              "    </tr>\n",
              "    <tr>\n",
              "      <th>1</th>\n",
              "      <td>February</td>\n",
              "      <td>107</td>\n",
              "      <td>157</td>\n",
              "    </tr>\n",
              "    <tr>\n",
              "      <th>2</th>\n",
              "      <td>March</td>\n",
              "      <td>85</td>\n",
              "      <td>196</td>\n",
              "    </tr>\n",
              "    <tr>\n",
              "      <th>3</th>\n",
              "      <td>April</td>\n",
              "      <td>248</td>\n",
              "      <td>303</td>\n",
              "    </tr>\n",
              "    <tr>\n",
              "      <th>4</th>\n",
              "      <td>May</td>\n",
              "      <td>230</td>\n",
              "      <td>308</td>\n",
              "    </tr>\n",
              "  </tbody>\n",
              "</table>\n",
              "</div>"
            ],
            "text/plain": [
              "      month  Television-all  Rerigerator\n",
              "0   January             189          201\n",
              "1  February             107          157\n",
              "2     March              85          196\n",
              "3     April             248          303\n",
              "4       May             230          308"
            ]
          },
          "execution_count": 213,
          "metadata": {},
          "output_type": "execute_result"
        }
      ],
      "source": [
        "data = pd.read_csv(\"D:\\DriveE\\Code_files\\python\\\\varun\\data.csv\")\n",
        "data.head()"
      ]
    },
    {
      "cell_type": "code",
      "execution_count": null,
      "metadata": {
        "id": "vGSTSoB1e4sF"
      },
      "outputs": [],
      "source": [
        "month_of_year = ['January',\n",
        "                'February',\n",
        "                'March',\n",
        "                'April',\n",
        "                'May',\n",
        "                'June',\n",
        "                'July',\n",
        "                'August',\n",
        "                'September',\n",
        "                'October',\n",
        "                'November',\n",
        "                'December']"
      ]
    },
    {
      "cell_type": "code",
      "execution_count": null,
      "metadata": {
        "id": "fkOSookke4sG",
        "outputId": "c55705d9-727b-41ef-beae-a4d53700d0ac"
      },
      "outputs": [
        {
          "data": {
            "text/html": [
              "<div>\n",
              "<style scoped>\n",
              "    .dataframe tbody tr th:only-of-type {\n",
              "        vertical-align: middle;\n",
              "    }\n",
              "\n",
              "    .dataframe tbody tr th {\n",
              "        vertical-align: top;\n",
              "    }\n",
              "\n",
              "    .dataframe thead th {\n",
              "        text-align: right;\n",
              "    }\n",
              "</style>\n",
              "<table border=\"1\" class=\"dataframe\">\n",
              "  <thead>\n",
              "    <tr style=\"text-align: right;\">\n",
              "      <th></th>\n",
              "      <th>month</th>\n",
              "      <th>Television-all</th>\n",
              "      <th>Rerigerator</th>\n",
              "    </tr>\n",
              "  </thead>\n",
              "  <tbody>\n",
              "    <tr>\n",
              "      <th>0</th>\n",
              "      <td>1</td>\n",
              "      <td>189</td>\n",
              "      <td>201</td>\n",
              "    </tr>\n",
              "    <tr>\n",
              "      <th>1</th>\n",
              "      <td>2</td>\n",
              "      <td>107</td>\n",
              "      <td>157</td>\n",
              "    </tr>\n",
              "    <tr>\n",
              "      <th>2</th>\n",
              "      <td>3</td>\n",
              "      <td>85</td>\n",
              "      <td>196</td>\n",
              "    </tr>\n",
              "    <tr>\n",
              "      <th>3</th>\n",
              "      <td>4</td>\n",
              "      <td>248</td>\n",
              "      <td>303</td>\n",
              "    </tr>\n",
              "    <tr>\n",
              "      <th>4</th>\n",
              "      <td>5</td>\n",
              "      <td>230</td>\n",
              "      <td>308</td>\n",
              "    </tr>\n",
              "    <tr>\n",
              "      <th>5</th>\n",
              "      <td>6</td>\n",
              "      <td>225</td>\n",
              "      <td>115</td>\n",
              "    </tr>\n",
              "    <tr>\n",
              "      <th>6</th>\n",
              "      <td>7</td>\n",
              "      <td>286</td>\n",
              "      <td>157</td>\n",
              "    </tr>\n",
              "    <tr>\n",
              "      <th>7</th>\n",
              "      <td>8</td>\n",
              "      <td>305</td>\n",
              "      <td>119</td>\n",
              "    </tr>\n",
              "    <tr>\n",
              "      <th>8</th>\n",
              "      <td>9</td>\n",
              "      <td>118</td>\n",
              "      <td>145</td>\n",
              "    </tr>\n",
              "    <tr>\n",
              "      <th>9</th>\n",
              "      <td>10</td>\n",
              "      <td>139</td>\n",
              "      <td>108</td>\n",
              "    </tr>\n",
              "    <tr>\n",
              "      <th>10</th>\n",
              "      <td>11</td>\n",
              "      <td>147</td>\n",
              "      <td>221</td>\n",
              "    </tr>\n",
              "    <tr>\n",
              "      <th>11</th>\n",
              "      <td>12</td>\n",
              "      <td>205</td>\n",
              "      <td>157</td>\n",
              "    </tr>\n",
              "  </tbody>\n",
              "</table>\n",
              "</div>"
            ],
            "text/plain": [
              "    month  Television-all  Rerigerator\n",
              "0       1             189          201\n",
              "1       2             107          157\n",
              "2       3              85          196\n",
              "3       4             248          303\n",
              "4       5             230          308\n",
              "5       6             225          115\n",
              "6       7             286          157\n",
              "7       8             305          119\n",
              "8       9             118          145\n",
              "9      10             139          108\n",
              "10     11             147          221\n",
              "11     12             205          157"
            ]
          },
          "execution_count": 215,
          "metadata": {},
          "output_type": "execute_result"
        }
      ],
      "source": [
        "data['month'] = data['month'].apply(lambda x: month_of_year.index(x)+1)\n",
        "data"
      ]
    },
    {
      "cell_type": "code",
      "execution_count": null,
      "metadata": {
        "id": "sTwlKT8Be4sG",
        "outputId": "8555b004-fa70-4f5b-d8f6-b5eb54e86d65"
      },
      "outputs": [
        {
          "data": {
            "text/plain": [
              "' I want to use previous data of three months as well as current month for input'"
            ]
          },
          "execution_count": 216,
          "metadata": {},
          "output_type": "execute_result"
        }
      ],
      "source": [
        "''' I want to use previous data of three months as well as current month for input'''"
      ]
    },
    {
      "cell_type": "code",
      "execution_count": null,
      "metadata": {
        "id": "yf3rCs4Ge4sG"
      },
      "outputs": [],
      "source": [
        "data_tv = data.drop(['Rerigerator'], axis=1)"
      ]
    },
    {
      "cell_type": "code",
      "execution_count": null,
      "metadata": {
        "id": "ASHwTOWCe4sH"
      },
      "outputs": [],
      "source": [
        "temp_list = data_tv['Television-all']\n"
      ]
    },
    {
      "cell_type": "code",
      "execution_count": null,
      "metadata": {
        "id": "HZE1y9Twe4sH"
      },
      "outputs": [],
      "source": [
        "data_tv['prev1'] = data_tv['month'].apply(lambda x: np.nan if x-1<3 else temp_list[x-2])\n",
        "data_tv['prev2'] = data_tv['month'].apply(lambda x: np.nan if x-1<3 else temp_list[x-3])\n",
        "data_tv['prev3'] = data_tv['month'].apply(lambda x: np.nan if x-1<3 else temp_list[x-4])"
      ]
    },
    {
      "cell_type": "code",
      "execution_count": null,
      "metadata": {
        "id": "wKmuUfqle4sH",
        "outputId": "04641a18-6cba-4ab2-ca83-b497e23febc4"
      },
      "outputs": [
        {
          "data": {
            "text/html": [
              "<div>\n",
              "<style scoped>\n",
              "    .dataframe tbody tr th:only-of-type {\n",
              "        vertical-align: middle;\n",
              "    }\n",
              "\n",
              "    .dataframe tbody tr th {\n",
              "        vertical-align: top;\n",
              "    }\n",
              "\n",
              "    .dataframe thead th {\n",
              "        text-align: right;\n",
              "    }\n",
              "</style>\n",
              "<table border=\"1\" class=\"dataframe\">\n",
              "  <thead>\n",
              "    <tr style=\"text-align: right;\">\n",
              "      <th></th>\n",
              "      <th>month</th>\n",
              "      <th>Television-all</th>\n",
              "      <th>prev1</th>\n",
              "      <th>prev2</th>\n",
              "      <th>prev3</th>\n",
              "    </tr>\n",
              "  </thead>\n",
              "  <tbody>\n",
              "    <tr>\n",
              "      <th>3</th>\n",
              "      <td>4</td>\n",
              "      <td>248</td>\n",
              "      <td>85.0</td>\n",
              "      <td>107.0</td>\n",
              "      <td>189.0</td>\n",
              "    </tr>\n",
              "    <tr>\n",
              "      <th>4</th>\n",
              "      <td>5</td>\n",
              "      <td>230</td>\n",
              "      <td>248.0</td>\n",
              "      <td>85.0</td>\n",
              "      <td>107.0</td>\n",
              "    </tr>\n",
              "    <tr>\n",
              "      <th>5</th>\n",
              "      <td>6</td>\n",
              "      <td>225</td>\n",
              "      <td>230.0</td>\n",
              "      <td>248.0</td>\n",
              "      <td>85.0</td>\n",
              "    </tr>\n",
              "    <tr>\n",
              "      <th>6</th>\n",
              "      <td>7</td>\n",
              "      <td>286</td>\n",
              "      <td>225.0</td>\n",
              "      <td>230.0</td>\n",
              "      <td>248.0</td>\n",
              "    </tr>\n",
              "    <tr>\n",
              "      <th>7</th>\n",
              "      <td>8</td>\n",
              "      <td>305</td>\n",
              "      <td>286.0</td>\n",
              "      <td>225.0</td>\n",
              "      <td>230.0</td>\n",
              "    </tr>\n",
              "    <tr>\n",
              "      <th>8</th>\n",
              "      <td>9</td>\n",
              "      <td>118</td>\n",
              "      <td>305.0</td>\n",
              "      <td>286.0</td>\n",
              "      <td>225.0</td>\n",
              "    </tr>\n",
              "    <tr>\n",
              "      <th>9</th>\n",
              "      <td>10</td>\n",
              "      <td>139</td>\n",
              "      <td>118.0</td>\n",
              "      <td>305.0</td>\n",
              "      <td>286.0</td>\n",
              "    </tr>\n",
              "    <tr>\n",
              "      <th>10</th>\n",
              "      <td>11</td>\n",
              "      <td>147</td>\n",
              "      <td>139.0</td>\n",
              "      <td>118.0</td>\n",
              "      <td>305.0</td>\n",
              "    </tr>\n",
              "    <tr>\n",
              "      <th>11</th>\n",
              "      <td>12</td>\n",
              "      <td>205</td>\n",
              "      <td>147.0</td>\n",
              "      <td>139.0</td>\n",
              "      <td>118.0</td>\n",
              "    </tr>\n",
              "  </tbody>\n",
              "</table>\n",
              "</div>"
            ],
            "text/plain": [
              "    month  Television-all  prev1  prev2  prev3\n",
              "3       4             248   85.0  107.0  189.0\n",
              "4       5             230  248.0   85.0  107.0\n",
              "5       6             225  230.0  248.0   85.0\n",
              "6       7             286  225.0  230.0  248.0\n",
              "7       8             305  286.0  225.0  230.0\n",
              "8       9             118  305.0  286.0  225.0\n",
              "9      10             139  118.0  305.0  286.0\n",
              "10     11             147  139.0  118.0  305.0\n",
              "11     12             205  147.0  139.0  118.0"
            ]
          },
          "execution_count": 220,
          "metadata": {},
          "output_type": "execute_result"
        }
      ],
      "source": [
        "data_tv = data_tv.dropna()\n",
        "data_tv"
      ]
    },
    {
      "cell_type": "code",
      "execution_count": null,
      "metadata": {
        "id": "pUqgZD3Se4sH",
        "outputId": "cb812300-4f57-4aad-da20-fe945b779602"
      },
      "outputs": [
        {
          "data": {
            "text/plain": [
              "<AxesSubplot:>"
            ]
          },
          "execution_count": 221,
          "metadata": {},
          "output_type": "execute_result"
        },
        {
          "data": {
            "image/png": "[encoded data removed]",
            "text/plain": [
              "<Figure size 432x288 with 2 Axes>"
            ]
          },
          "metadata": {
            "needs_background": "light"
          },
          "output_type": "display_data"
        }
      ],
      "source": [
        "corr = data_tv.corr()\n",
        "sns.heatmap(corr, annot=True)"
      ]
    },
    {
      "cell_type": "code",
      "execution_count": null,
      "metadata": {
        "id": "rY3JsJh9e4sI",
        "outputId": "099a3a0a-28ea-42d4-ab54-df74b54a4cb1"
      },
      "outputs": [
        {
          "data": {
            "text/plain": [
              "(    month  prev1  prev2  prev3\n",
              " 3       4   85.0  107.0  189.0\n",
              " 4       5  248.0   85.0  107.0\n",
              " 5       6  230.0  248.0   85.0\n",
              " 6       7  225.0  230.0  248.0\n",
              " 7       8  286.0  225.0  230.0\n",
              " 8       9  305.0  286.0  225.0\n",
              " 9      10  118.0  305.0  286.0\n",
              " 10     11  139.0  118.0  305.0\n",
              " 11     12  147.0  139.0  118.0,\n",
              " 3     248\n",
              " 4     230\n",
              " 5     225\n",
              " 6     286\n",
              " 7     305\n",
              " 8     118\n",
              " 9     139\n",
              " 10    147\n",
              " 11    205\n",
              " Name: Television-all, dtype: int64)"
            ]
          },
          "execution_count": 222,
          "metadata": {},
          "output_type": "execute_result"
        }
      ],
      "source": [
        "xtrain = data_tv[['month','prev1', 'prev2', 'prev3']]\n",
        "ytrain = data_tv['Television-all']\n",
        "\n",
        "xtrain, ytrain"
      ]
    },
    {
      "cell_type": "code",
      "execution_count": null,
      "metadata": {
        "id": "o1nOVX3ke4sI",
        "outputId": "15d95f10-9f3a-459e-ebbd-ea94e9cf82f6"
      },
      "outputs": [
        {
          "data": {
            "text/plain": [
              "(    month  prev1  prev2  prev3\n",
              " 10     11  139.0  118.0  305.0\n",
              " 9      10  118.0  305.0  286.0\n",
              " 3       4   85.0  107.0  189.0\n",
              " 8       9  305.0  286.0  225.0\n",
              " 7       8  286.0  225.0  230.0,\n",
              " 10    147\n",
              " 9     139\n",
              " 3     248\n",
              " 8     118\n",
              " 7     305\n",
              " Name: Television-all, dtype: int64,\n",
              "     month  prev1  prev2  prev3\n",
              " 11     12  147.0  139.0  118.0\n",
              " 4       5  248.0   85.0  107.0\n",
              " 6       7  225.0  230.0  248.0\n",
              " 5       6  230.0  248.0   85.0,\n",
              " 11    205\n",
              " 4     230\n",
              " 6     286\n",
              " 5     225\n",
              " Name: Television-all, dtype: int64)"
            ]
          },
          "execution_count": 223,
          "metadata": {},
          "output_type": "execute_result"
        }
      ],
      "source": [
        "xtrain, xtest, ytrain, ytest = train_test_split(xtrain, ytrain, test_size=0.4)\n",
        "xtrain, ytrain, xtest, ytest"
      ]
    },
    {
      "cell_type": "code",
      "execution_count": null,
      "metadata": {
        "id": "4qVdxKM4e4sI"
      },
      "outputs": [],
      "source": [
        "from sklearn import tree"
      ]
    },
    {
      "cell_type": "code",
      "execution_count": null,
      "metadata": {
        "id": "t_tn4yque4sI"
      },
      "outputs": [],
      "source": [
        "model = tree.DecisionTreeClassifier()"
      ]
    },
    {
      "cell_type": "code",
      "execution_count": null,
      "metadata": {
        "id": "ZbEKpqARe4sJ",
        "outputId": "ba6b85ca-b5ff-4c3a-8b2c-ce8e5001a677"
      },
      "outputs": [
        {
          "data": {
            "text/plain": [
              "DecisionTreeClassifier()"
            ]
          },
          "execution_count": 226,
          "metadata": {},
          "output_type": "execute_result"
        }
      ],
      "source": [
        "model.fit(xtrain,ytrain)"
      ]
    },
    {
      "cell_type": "code",
      "execution_count": null,
      "metadata": {
        "id": "e4VjHepGe4sJ"
      },
      "outputs": [],
      "source": [
        "import matplotlib.pyplot as plt\n",
        "\n",
        "%matplotlib inline"
      ]
    },
    {
      "cell_type": "code",
      "execution_count": null,
      "metadata": {
        "id": "7VseRn-De4sJ",
        "outputId": "70a86f5d-74a3-4f18-f815-07f0efc13632"
      },
      "outputs": [
        {
          "data": {
            "image/png": "[encoded data removed]",
            "text/plain": [
              "<Figure size 432x288 with 1 Axes>"
            ]
          },
          "metadata": {
            "needs_background": "light"
          },
          "output_type": "display_data"
        }
      ],
      "source": [
        "plt.scatter(xtrain['month'], ytrain,color='g')\n",
        "plt.plot(np.sort(xtrain['month']), model.predict(xtrain.sort_values(by=\"month\")),color='r')\n",
        "\n",
        "plt.xlabel('month')\n",
        "plt.ylabel('sales')\n",
        "\n",
        "plt.show()"
      ]
    },
    {
      "cell_type": "code",
      "execution_count": null,
      "metadata": {
        "id": "YxRD0jXOe4sJ",
        "outputId": "5504468d-7c5b-4a8f-f250-3f9079a39568"
      },
      "outputs": [
        {
          "data": {
            "image/png": "[encoded data removed]",
            "text/plain": [
              "<Figure size 432x288 with 1 Axes>"
            ]
          },
          "metadata": {
            "needs_background": "light"
          },
          "output_type": "display_data"
        }
      ],
      "source": [
        "plt.scatter(xtest['month'], ytest,color='g')\n",
        "plt.plot(np.sort(xtest['month']), model.predict(xtest.sort_values(by=\"month\")),color='r')\n",
        "\n",
        "plt.xlabel('month')\n",
        "plt.ylabel('sales')\n",
        "\n",
        "plt.show()"
      ]
    },
    {
      "cell_type": "code",
      "execution_count": null,
      "metadata": {
        "id": "Jfo5OzrIe4sJ"
      },
      "outputs": [],
      "source": [
        "def mse(ytest, ypred):\n",
        "    return np.mean((ytest-ypred)**2)"
      ]
    },
    {
      "cell_type": "code",
      "execution_count": null,
      "metadata": {
        "id": "-TXa0xNDe4sJ"
      },
      "outputs": [],
      "source": [
        "def rmse(ytest, ypred):\n",
        "    return np.sqrt(mse(ytest,ypred))"
      ]
    },
    {
      "cell_type": "code",
      "execution_count": null,
      "metadata": {
        "id": "APRZJ5uNe4sK",
        "outputId": "610f0f6b-d4e1-45a0-d8da-e2a10b3e90bd"
      },
      "outputs": [
        {
          "data": {
            "text/plain": [
              "62.245481763739285"
            ]
          },
          "execution_count": 233,
          "metadata": {},
          "output_type": "execute_result"
        }
      ],
      "source": [
        "rmse(ytest, model.predict(xtest))"
      ]
    }
  ],
  "metadata": {
    "interpreter": {
      "hash": "bf7a4160d337a1e60ea66304924a56ab437aff39434cbd3b6f2e23a9c6e4fd40"
    },
    "kernelspec": {
      "display_name": "Python 3.9.0 ('env': venv)",
      "language": "python",
      "name": "python3"
    },
    "language_info": {
      "codemirror_mode": {
        "name": "ipython",
        "version": 3
      },
      "file_extension": ".py",
      "mimetype": "text/x-python",
      "name": "python",
      "nbconvert_exporter": "python",
      "pygments_lexer": "ipython3",
      "version": "3.9.0"
    },
    "orig_nbformat": 4,
    "colab": {
      "provenance": []
    }
  },
  "nbformat": 4,
  "nbformat_minor": 0
}